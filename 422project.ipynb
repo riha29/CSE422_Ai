{
  "nbformat": 4,
  "nbformat_minor": 0,
  "metadata": {
    "colab": {
      "provenance": []
    },
    "kernelspec": {
      "name": "python3",
      "display_name": "Python 3"
    },
    "language_info": {
      "name": "python"
    }
  },
  "cells": [
    {
      "cell_type": "markdown",
      "source": [
        "Importing the libraries"
      ],
      "metadata": {
        "id": "uK05gSvyO2DU"
      }
    },
    {
      "cell_type": "code",
      "execution_count": 30,
      "metadata": {
        "id": "6fpCDgIUhf6M"
      },
      "outputs": [],
      "source": [
        "import pandas as pd\n",
        "from sklearn.preprocessing import StandardScaler, OneHotEncoder, LabelEncoder, MinMaxScaler\n",
        "from sklearn.model_selection import train_test_split\n",
        "import seaborn as sns\n",
        "import matplotlib.pyplot as plt\n",
        "from sklearn.linear_model import LinearRegression\n",
        "from sklearn.tree import DecisionTreeRegressor\n",
        "from sklearn.ensemble import RandomForestRegressor\n",
        "from sklearn.svm import SVR\n",
        "from sklearn.metrics import mean_squared_error, r2_score, mean_absolute_error"
      ]
    },
    {
      "cell_type": "code",
      "source": [
        "from google.colab import drive\n",
        "drive.mount('/content/drive')"
      ],
      "metadata": {
        "id": "u4er-IbZuZLA"
      },
      "execution_count": null,
      "outputs": []
    },
    {
      "cell_type": "markdown",
      "source": [
        "Step 1: Data Initialization"
      ],
      "metadata": {
        "id": "6tC_7yB8OuVh"
      }
    },
    {
      "cell_type": "code",
      "source": [
        "data = pd.read_csv('/content/drive/MyDrive/Colab Notebooks/422/Housing.csv')\n",
        "print(data.head())\n",
        "# Checking data types\n",
        "print(data.dtypes)"
      ],
      "metadata": {
        "id": "j8fZR_Mlhq-n"
      },
      "execution_count": null,
      "outputs": []
    },
    {
      "cell_type": "markdown",
      "source": [
        "Heatmap showing data correlation"
      ],
      "metadata": {
        "id": "qZ6mBQ-CiLJQ"
      }
    },
    {
      "cell_type": "code",
      "source": [
        "# Encode binary categorical variables as numbers\n",
        "binary_columns = ['mainroad', 'guestroom', 'basement', 'hotwaterheating', 'airconditioning', 'prefarea']\n",
        "for col in binary_columns:\n",
        "    data[col] = data[col].map({'yes': 1, 'no': 0})\n",
        "\n",
        "# One-hot encode the 'furnishingstatus' column\n",
        "data = pd.get_dummies(data, columns=['furnishingstatus'], drop_first=True)\n",
        "\n",
        "# Calculate the correlation matrix\n",
        "corr_matrix = data.corr()\n",
        "\n",
        "# Using seaborn to create heatmap\n",
        "plt.figure(figsize=(12, 10))\n",
        "sns.heatmap(corr_matrix, annot=True, cmap='coolwarm')\n",
        "plt.title('Correlation Heatmap')\n",
        "plt.show()"
      ],
      "metadata": {
        "id": "dyV-9HEEiLgJ"
      },
      "execution_count": null,
      "outputs": []
    },
    {
      "cell_type": "markdown",
      "source": [
        "Data Visualization"
      ],
      "metadata": {
        "id": "gB1aKY0AO-Ao"
      }
    },
    {
      "cell_type": "code",
      "source": [
        "num_cols = data.select_dtypes(include=['int64', 'float64', 'object']).columns\n",
        "num_plots = len(num_cols)\n",
        "num_rows = (num_plots // 4) + (num_plots % 4 > 0)\n",
        "\n",
        "# Barplots for numerical features to identify outliers\n",
        "plt.figure(figsize=(20, num_rows * 4))\n",
        "\n",
        "for i, col in enumerate(num_cols):\n",
        "    plt.subplot(num_rows, 4, i + 1)\n",
        "    sns.barplot(x=data[col])\n",
        "    plt.title(f'Boxplot of {col}')\n",
        "\n",
        "plt.tight_layout()\n",
        "plt.show()"
      ],
      "metadata": {
        "id": "cZzs2HawhrHt"
      },
      "execution_count": null,
      "outputs": []
    },
    {
      "cell_type": "markdown",
      "source": [
        "Step 2: Data Preprocessing"
      ],
      "metadata": {
        "id": "wjbFSPmOPFsm"
      }
    },
    {
      "cell_type": "code",
      "source": [
        "# Encoding non-binary variables\n",
        "binary_columns = ['mainroad', 'guestroom', 'basement', 'hotwaterheating', 'airconditioning', 'prefarea', 'furnishingstatus']\n",
        "label_encoder = LabelEncoder()\n",
        "for col in binary_columns:\n",
        "  data[col] = label_encoder.fit_transform(data[col])\n",
        "# Dropping the Label column\n",
        "X = data.drop(['price', 'bedrooms'], axis=1)\n",
        "y = data['price']\n",
        "X_train, X_test, y_train, y_test = train_test_split(X, y, test_size=0.3, random_state=0)\n",
        "#scalling\n",
        "scaler = MinMaxScaler()\n",
        "X_train_scaled = scaler.fit_transform(X_train)\n",
        "X_test_scaled = scaler.transform(X_test)\n",
        "#checking the categories of categorical features\n",
        "for col in data.select_dtypes(include=['object']).columns:\n",
        "  print(f\"Unique categories in {col}: {data[col].nunique()}\")\n",
        "  print(data[col].value_counts())"
      ],
      "metadata": {
        "id": "N0MuX2KBhrOO"
      },
      "execution_count": 35,
      "outputs": []
    },
    {
      "cell_type": "markdown",
      "source": [
        "Step 3: Model Training and Validation"
      ],
      "metadata": {
        "id": "ore6fP_lPLCQ"
      }
    },
    {
      "cell_type": "code",
      "source": [
        "# Initializing the models\n",
        "models = {\n",
        "    'LinearRegression': LinearRegression(),\n",
        "    'DecisionTree': DecisionTreeRegressor(),\n",
        "    'SVR': SVR()\n",
        "}\n",
        "\n",
        "# Training and evaluating the models\n",
        "for name, model in models.items():\n",
        "  model.fit(X_train, y_train)\n",
        "  predictions = model.predict(X_test)\n",
        "  mse = mean_squared_error(y_test, predictions)\n",
        "  mae = mean_absolute_error(y_test, predictions)\n",
        "  r2 = r2_score(y_test, predictions)\n",
        "  print(f\"{name} - MSE: {mse}, MAE: {mae}, R2: {r2}\")"
      ],
      "metadata": {
        "id": "KHfCA9tNhrUd",
        "colab": {
          "base_uri": "https://localhost:8080/"
        },
        "outputId": "7a6267f6-3a3d-4fe5-908c-aef150ad0066"
      },
      "execution_count": 36,
      "outputs": [
        {
          "output_type": "stream",
          "name": "stdout",
          "text": [
            "LinearRegression - MSE: 965623065237.2881, MAE: 731372.855567254, R2: 0.7216241485133134\n",
            "DecisionTree - MSE: 3190025039634.1465, MAE: 1197682.9268292682, R2: 0.08035964690447084\n",
            "SVR - MSE: 3614249150937.7734, MAE: 1391446.274830629, R2: -0.04193833090564936\n"
          ]
        }
      ]
    },
    {
      "cell_type": "markdown",
      "source": [
        "Step 4: Model Evaluation"
      ],
      "metadata": {
        "id": "U674YQ6PPRyT"
      }
    },
    {
      "cell_type": "code",
      "source": [
        "for model_name, model in models.items():\n",
        "  predictions = model.predict(X_test)\n",
        "\n",
        "  mae = mean_absolute_error(y_test, predictions)\n",
        "  mse = mean_squared_error(y_test, predictions)\n",
        "  r2 = r2_score(y_test, predictions)\n",
        "\n",
        "  print(f\"{model_name} Performance:\")\n",
        "  print(f\"  Mean Absolute Error: {mae}\")\n",
        "  print(f\"  Mean Squared Error: {mse}\")\n",
        "  print(f\"  R-Squared: {r2}\\n\")"
      ],
      "metadata": {
        "id": "GZLwaGgFhraN",
        "colab": {
          "base_uri": "https://localhost:8080/"
        },
        "outputId": "f5f2d1bc-a2b7-4ad6-f0a7-5cf62b7c2a6f"
      },
      "execution_count": 37,
      "outputs": [
        {
          "output_type": "stream",
          "name": "stdout",
          "text": [
            "LinearRegression Performance:\n",
            "  Mean Absolute Error: 731372.855567254\n",
            "  Mean Squared Error: 965623065237.2881\n",
            "  R-Squared: 0.7216241485133134\n",
            "\n",
            "DecisionTree Performance:\n",
            "  Mean Absolute Error: 1197682.9268292682\n",
            "  Mean Squared Error: 3190025039634.1465\n",
            "  R-Squared: 0.08035964690447084\n",
            "\n",
            "SVR Performance:\n",
            "  Mean Absolute Error: 1391446.274830629\n",
            "  Mean Squared Error: 3614249150937.7734\n",
            "  R-Squared: -0.04193833090564936\n",
            "\n"
          ]
        }
      ]
    }
  ]
}